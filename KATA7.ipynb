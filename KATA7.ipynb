{
 "cells": [
  {
   "cell_type": "markdown",
   "metadata": {},
   "source": [
    "# Creación de un bucle \"while\"\n",
    "En este ejercicio, estás creando una aplicación que solicita a un usuario que ingrese una lista de planetas. En un ejercicio posterior, agregarás código que muestre la lista. Por ahora, crearás solo el código que solicita al usuario la lista de planetas."
   ]
  },
  {
   "cell_type": "code",
   "execution_count": 5,
   "metadata": {},
   "outputs": [],
   "source": [
    "# Declara dos variables\n",
    "\n",
    "new_planet = ''\n",
    "planets = []\n",
    "\n",
    "# Escribe el ciclo while solicitado\n",
    "\n",
    "while new_planet.lower() != 'done':\n",
    "    new_planet = input('Escribe el nombre del planeta, o la palabra done para terminar')\n",
    "    planets.append(new_planet)\n",
    "    new_planet = input('Escribe otro nuevo planeta o la palabra done para terminar')"
   ]
  },
  {
   "cell_type": "markdown",
   "metadata": {},
   "source": [
    "## Creación de un ciclo \"for\"\n",
    "En el ejercicio anterior, creaste código para solicitar a los usuarios que introduzcan una lista de nombres de planetas. En este ejercicio, completarás la aplicación escribiendo código que muestre los nombres de esos planetas."
   ]
  },
  {
   "cell_type": "code",
   "execution_count": 9,
   "metadata": {},
   "outputs": [
    {
     "name": "stdout",
     "output_type": "stream",
     "text": [
      "The first planet is  Mercurio\n",
      "The first planet is  Mercurio\n"
     ]
    }
   ],
   "source": [
    "for planet in planets:\n",
    "    print(\"The first planet is \", planets[0])\n"
   ]
  }
 ],
 "metadata": {
  "interpreter": {
   "hash": "3fe17e33780172436c9562f712e309abc3d7060506a7ee4aa9cbd839ad08d5d3"
  },
  "kernelspec": {
   "display_name": "Python 3.9.10 64-bit (windows store)",
   "language": "python",
   "name": "python3"
  },
  "language_info": {
   "codemirror_mode": {
    "name": "ipython",
    "version": 3
   },
   "file_extension": ".py",
   "mimetype": "text/x-python",
   "name": "python",
   "nbconvert_exporter": "python",
   "pygments_lexer": "ipython3",
   "version": "3.9.10"
  },
  "orig_nbformat": 4
 },
 "nbformat": 4,
 "nbformat_minor": 2
}
