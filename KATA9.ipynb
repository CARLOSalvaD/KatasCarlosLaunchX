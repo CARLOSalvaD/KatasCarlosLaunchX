{
 "cells": [
  {
   "cell_type": "markdown",
   "metadata": {},
   "source": [
    "# Uso de funciones en Python\n",
    "En este ejercicio, construirás un informe de combustible que requiere información de varias ubicaciones de combustible en todo el cohete."
   ]
  },
  {
   "cell_type": "code",
   "execution_count": 19,
   "metadata": {},
   "outputs": [
    {
     "name": "stdout",
     "output_type": "stream",
     "text": [
      "porcentaje de combustible:\n",
      "    tanque 1: 50%,\n",
      "    tanque 2: 60%, \n",
      "    tanque 3: 25%\n",
      "    \n"
     ]
    }
   ],
   "source": [
    "# Función para leer 3 tanques de combustible y muestre el promedio\n",
    "\n",
    "def tanques_combust(tanq1, tanq2, tanq3):\n",
    "    return (f\"\"\"porcentaje de combustible:\n",
    "    tanque 1: {tanq1}%,\n",
    "    tanque 2: {tanq2}%, \n",
    "    tanque 3: {tanq3}%\n",
    "    \"\"\"\n",
    "    )\n",
    "#DUDA: no entiendo porqué si pongo triples comillas si puede compilar, pero cuando lo hago con comillas dobles o simples no me sale :c\n",
    "\n",
    "\n",
    "# Llamamos a la función que genera el reporte print(funcion(tanq1, tanq2, tanq3))\n",
    "\n",
    "print (tanques_combust(50,60,25))"
   ]
  },
  {
   "cell_type": "code",
   "execution_count": 24,
   "metadata": {},
   "outputs": [
    {
     "data": {
      "text/plain": [
       "82.0"
      ]
     },
     "execution_count": 24,
     "metadata": {},
     "output_type": "execute_result"
    }
   ],
   "source": [
    "# Función promedio\n",
    "def average(values):\n",
    "    suma = sum(values)\n",
    "    items = len(values)\n",
    "    return suma / items\n",
    "\n",
    "# Test the averaging function with a list of integers:\n",
    "average([80, 85, 81])"
   ]
  },
  {
   "cell_type": "code",
   "execution_count": 26,
   "metadata": {},
   "outputs": [
    {
     "name": "stdout",
     "output_type": "stream",
     "text": [
      "Reporte actualizado:\n",
      "    Total Average: 45.0%\n",
      "    Primer tanque Ox: 50%\n",
      "    Segundo tanque Comb: 60%\n",
      "    Tercer tanque Hidr: 25% \n",
      "    \n"
     ]
    }
   ],
   "source": [
    "# Actualiza la función\n",
    "def tanques_combust(tanq1, tanq2, tanq3):\n",
    "    return f\"\"\"Reporte actualizado:\n",
    "    Total Average: {average([tanq1, tanq2, tanq3])}%\n",
    "    Primer tanque Ox: {tanq1}%\n",
    "    Segundo tanque Comb: {tanq2}%\n",
    "    Tercer tanque Hidr: {tanq3}% \n",
    "    \"\"\"\n",
    "\n",
    "    \n",
    "print (tanques_combust(50,60,25))"
   ]
  },
  {
   "cell_type": "markdown",
   "metadata": {},
   "source": [
    "# Trabajo con argumentos de palabra clave\n",
    "En este ejercicio, construirás un informe de cohete que requiere varias piezas de información, como el tiempo hasta el destino, el combustible a la izquierda y el nombre del destino. Comienza por crear una función que creará un informe preciso de la misión:"
   ]
  },
  {
   "cell_type": "code",
   "execution_count": 36,
   "metadata": {},
   "outputs": [
    {
     "name": "stdout",
     "output_type": "stream",
     "text": [
      "\n",
      "    Destino: Luna\n",
      "    Tiempo de llegada: 51 Hr(s)\n",
      "    Combustible: 90000 galones\n",
      "    \n"
     ]
    }
   ],
   "source": [
    "# Función con un informe preciso de la misión. Considera hora de prelanzamiento, tiempo de vuelo, destino, tanque externo y tanque interno\n",
    "\n",
    "def informe_lanzam (prelanz, time_vuelo, destin, tanq1, tanq2):\n",
    "    return (f\"\"\"\n",
    "    Destino: {destin}\n",
    "    Tiempo de llegada: {prelanz + time_vuelo} Hr(s)\n",
    "    Combustible: {tanq1 + tanq2} galones\n",
    "    \"\"\"\n",
    "    )\n",
    "print(informe_lanzam(14, 37, \"Luna\", 5000, 4000))"
   ]
  },
  {
   "cell_type": "code",
   "execution_count": 37,
   "metadata": {},
   "outputs": [
    {
     "name": "stdout",
     "output_type": "stream",
     "text": [
      "\n",
      "    Destino: Luna\n",
      "    Tiempo de viaje: 3060 minutos\n",
      "    Combustible:  34000 lts.\n",
      "    \n"
     ]
    }
   ],
   "source": [
    "# Escribe tu nueva función de reporte considerando lo anterior\n",
    "def informe_lanzam(destino, *minutes, **fuel_reservoirs):\n",
    "    return f\"\"\"\n",
    "    Destino: {destino}\n",
    "    Tiempo de viaje: {sum(minutes)} minutos\n",
    "    Combustible:  {sum(fuel_reservoirs.values())} lts.\n",
    "    \"\"\"\n",
    "print(informe_lanzam(\"Luna\", 840, 2220, tanq1=19000, tanq2=15000))"
   ]
  },
  {
   "cell_type": "code",
   "execution_count": 49,
   "metadata": {},
   "outputs": [
    {
     "name": "stdout",
     "output_type": "stream",
     "text": [
      "\n",
      "    Destino: Luna\n",
      "    Tiempo de viaje: 3068 minutos\n",
      "    Combustible:  5000 lts.\n",
      "    Tanque interno: 3000 galones\n",
      "Tanque externo: 2000 galones\n",
      "\n"
     ]
    }
   ],
   "source": [
    "# Escribe tu nueva función\n",
    "\n",
    "def informe_lanzam(destino, *minutes, **fuel_reservoirs):\n",
    "    reporte_final = f\"\"\"\n",
    "    Destino: {destino}\n",
    "    Tiempo de viaje: {sum(minutes)} minutos\n",
    "    Combustible:  {sum(fuel_reservoirs.values())} lts.\n",
    "    \"\"\"\n",
    "    for tank_name, gallons in fuel_reservoirs.items():\n",
    "        reporte_final += f\"Tanque {tank_name}: {gallons} galones\\n\"\n",
    "    return reporte_final\n",
    "\n",
    "print(informe_lanzam (\"Luna\", 8, 840, 2220, interno=3000, externo=2000))"
   ]
  }
 ],
 "metadata": {
  "interpreter": {
   "hash": "3fe17e33780172436c9562f712e309abc3d7060506a7ee4aa9cbd839ad08d5d3"
  },
  "kernelspec": {
   "display_name": "Python 3.9.10 64-bit (windows store)",
   "language": "python",
   "name": "python3"
  },
  "language_info": {
   "codemirror_mode": {
    "name": "ipython",
    "version": 3
   },
   "file_extension": ".py",
   "mimetype": "text/x-python",
   "name": "python",
   "nbconvert_exporter": "python",
   "pygments_lexer": "ipython3",
   "version": "3.9.10"
  },
  "orig_nbformat": 4
 },
 "nbformat": 4,
 "nbformat_minor": 2
}
