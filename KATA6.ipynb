{
 "cells": [
  {
   "cell_type": "markdown",
   "metadata": {},
   "source": [
    "# Crear y usar listas de Python\n",
    "Comenzarás un proyecto sobre información planetaria creando una lista de planetas."
   ]
  },
  {
   "cell_type": "code",
   "execution_count": 2,
   "metadata": {},
   "outputs": [
    {
     "name": "stdout",
     "output_type": "stream",
     "text": [
      "The first planet is Mercurio\n",
      "The second planet is Venus\n",
      "The third planet is Tierra\n",
      "The last planet is Pluto\n"
     ]
    }
   ],
   "source": [
    "# Creamos la lista planets y la mostramos\n",
    "\n",
    "planets = ['Mercurio', 'Venus', 'Tierra', 'Marte', 'Jupiter', 'Saturno', 'Urano', 'Neptuno']\n",
    "print('The first planet is', planets[0])\n",
    "print('The second planet is', planets[1])\n",
    "print('The third planet is', planets[2])\n",
    "\n",
    "# Agregamos a plutón y mostramos el último elemento\n",
    "planets.append('Pluto')\n",
    "print('The last planet is', planets[-1])"
   ]
  },
  {
   "cell_type": "markdown",
   "metadata": {},
   "source": [
    "## Trabajando con datos de una lista\n",
    "En nuestro ejemplo, queremos mostrar planetas más cerca y más lejos del sol de un planeta que el usuario ingresa por teclado."
   ]
  },
  {
   "cell_type": "code",
   "execution_count": 12,
   "metadata": {},
   "outputs": [
    {
     "name": "stdout",
     "output_type": "stream",
     "text": [
      "Venus es el 2 planeta del sistema solar\n"
     ]
    }
   ],
   "source": [
    "planets = ['Mercurio', 'Venus', 'Tierra', 'Marte', 'Jupiter', 'Saturno', 'Urano', 'Neptuno']\n",
    "\n",
    "# Solicitamos el nombre de un planeta\n",
    "\n",
    "name_planet = input(\"Por favor, escriba el nombre del planeta 'iniciando con mayúscula': \")\n",
    "\n",
    "# Busca el planeta en la lista\n",
    "name_planeti = planets.index(name_planet)\n",
    "\n",
    "# Muestra los planetas más cercanos al sol\n",
    "\n",
    "name_planeti = planets.index(name_planet)\n",
    "print(f'{name_planet} es el', name_planeti + 1, 'planeta del sistema solar')"
   ]
  },
  {
   "cell_type": "code",
   "execution_count": 13,
   "metadata": {},
   "outputs": [
    {
     "name": "stdout",
     "output_type": "stream",
     "text": [
      "Here are the planets further than Venus\n",
      "['Tierra', 'Marte', 'Jupiter', 'Saturno', 'Urano', 'Neptuno']\n"
     ]
    }
   ],
   "source": [
    "# Muestra los planetas más lejanos al sol\n",
    "\n",
    "print('Here are the planets further than ' + name_planet)\n",
    "print(planets[name_planeti + 1:])"
   ]
  }
 ],
 "metadata": {
  "interpreter": {
   "hash": "3fe17e33780172436c9562f712e309abc3d7060506a7ee4aa9cbd839ad08d5d3"
  },
  "kernelspec": {
   "display_name": "Python 3.9.10 64-bit (windows store)",
   "language": "python",
   "name": "python3"
  },
  "language_info": {
   "codemirror_mode": {
    "name": "ipython",
    "version": 3
   },
   "file_extension": ".py",
   "mimetype": "text/x-python",
   "name": "python",
   "nbconvert_exporter": "python",
   "pygments_lexer": "ipython3",
   "version": "3.9.10"
  },
  "orig_nbformat": 4
 },
 "nbformat": 4,
 "nbformat_minor": 2
}
