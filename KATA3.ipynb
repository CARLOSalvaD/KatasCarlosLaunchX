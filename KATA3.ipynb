{
 "cells": [
  {
   "cell_type": "markdown",
   "metadata": {},
   "source": [
    "# Escribir declaraciones if, else, y elif\n",
    "Para este ejercicio, escribirás una lógica condicional que imprima una advertencia si un asteroide se acerca a la Tierra demasiado rápido. La velocidad del asteroide varía dependiendo de lo cerca que esté del sol, y cualquier velocidad superior a 25 kilómetros por segundo (km/s) merece una advertencia.\n",
    "\n",
    "## Un asteroide se acerca, y viaja a una velocidad de 49 km/s."
   ]
  },
  {
   "cell_type": "code",
   "execution_count": 35,
   "metadata": {},
   "outputs": [
    {
     "name": "stdout",
     "output_type": "stream",
     "text": [
      "¡ADVERTENCIA, SE ACERCA UN ASTEROIDE A GRAN VELOCIDAD RUMBO A LA TIERRA!\n"
     ]
    }
   ],
   "source": [
    "veloc_asteroide = 49\n",
    "\n",
    "if veloc_asteroide > 25:\n",
    "    print(\"¡ADVERTENCIA, SE ACERCA UN ASTEROIDE A GRAN VELOCIDAD RUMBO A LA TIERRA!\")\n",
    "else:\n",
    "    print(\"El asteroide viaja a una velocidad no amenazante\")\n",
    "\n"
   ]
  },
  {
   "cell_type": "markdown",
   "metadata": {},
   "source": [
    "Si un asteroide entra en la atmósfera de la Tierra a una velocidad mayor o igual a 20 km/s, a veces produce un rayo de luz que se puede ver desde la Tierra. Escribe la lógica condicional que usa declaraciones if, else, y elif para alertar a las personas de todo el mundo que deben buscar un asteroide en el cielo. \n",
    "## ¡Hay uno que se dirige a la tierra ahora a una velocidad de 19 km/s!"
   ]
  },
  {
   "cell_type": "code",
   "execution_count": 39,
   "metadata": {},
   "outputs": [
    {
     "name": "stdout",
     "output_type": "stream",
     "text": [
      "El asteroide no ha creado un rayo de luz\n"
     ]
    }
   ],
   "source": [
    "veloc_asteroide = 19\n",
    "rayodeluz = 20\n",
    "\n",
    "if veloc_asteroide > 20:\n",
    "    print(\"El asteroide ha creado un rayo de luz en el cielo\")\n",
    "elif veloc_asteroide == rayodeluz:\n",
    "    print(\"El asteroide ha creado un rayo de luz en el cielo\")\n",
    "else:\n",
    "    print(\"El asteroide no ha creado un rayo de luz\")\n"
   ]
  },
  {
   "cell_type": "markdown",
   "metadata": {},
   "source": [
    "# Uso de operadores and y or\n",
    "En este ejercicio, aprenderás información más matizada sobre cuándo los asteroides representan un peligro para la Tierra, y utilizarás esa información para mejorar nuestro sistema de advertencia. Aquí está la nueva información que necesitas saber:\n",
    "\n",
    "*Los asteroides de menos de 25 metros en su dimensión más grande probablemente se quemarán a medida que entren en la atmósfera de la Tierra.\n",
    "\n",
    "Si una pieza de un asteroide que es más grande que 25 metros pero más pequeña que 1000 metros golpeara la Tierra, causaría mucho daño.\n",
    "También discutimos en el ejercicio anterior que:\n",
    "\n",
    "La velocidad del asteroide varía en función de lo cerca que esté del sol, y cualquier velocidad superior a 25 kilómetros por segundo (km/s) merece una advertencia.\n",
    "Si un asteroide entra en la atmósfera de la Tierra a una velocidad mayor o igual a 20 km/s, a veces produce un rayo de luz que se puede ver desde la Tierra.\n",
    "Usando toda esta información, escribe un programa que emita la advertencia o información correcta a la gente de la Tierra, según la velocidad y el tamaño de un asteroide. Utiliza instrucciones if, else, y elif, así como los operadores and y or."
   ]
  },
  {
   "cell_type": "code",
   "execution_count": 51,
   "metadata": {},
   "outputs": [
    {
     "name": "stdout",
     "output_type": "stream",
     "text": [
      "¡ADVERTENCIA, SE ACERCA UN ASTEROIDE GIGANTE A GRAN VELOCIDAD RUMBO A LA TIERRA!\n"
     ]
    }
   ],
   "source": [
    "veloc_asteroide = 49\n",
    "t_asteroide = 90\n",
    "\n",
    "if veloc_asteroide >= 20 and t_asteroide >= 25:\n",
    "    print(\"¡ADVERTENCIA, SE ACERCA UN ASTEROIDE GIGANTE A GRAN VELOCIDAD RUMBO A LA TIERRA!\")\n",
    "elif veloc_asteroide >= 20 and t_asteroide < 25:\n",
    "        print(\"El asteroide es pequeño, ha creado un rayo de luz en el cielo\")\n",
    "elif t_asteroide >= 25 and veloc_asteroide <= 20:\n",
    "        print(\"Atención, se acerca un asteroide gigante pero a una velocidad minima. No se preocupe. Se ejecutará un plan\")\n",
    "elif t_asteroide == 24 or veloc_asteroide == 19:\n",
    "    print(\"No se preocupe, el asteroide es demaciado pequeño\")\n",
    "else:\n",
    "    print(\"No hay amenaza\")\n"
   ]
  }
 ],
 "metadata": {
  "interpreter": {
   "hash": "3fe17e33780172436c9562f712e309abc3d7060506a7ee4aa9cbd839ad08d5d3"
  },
  "kernelspec": {
   "display_name": "Python 3.9.10 64-bit (windows store)",
   "language": "python",
   "name": "python3"
  },
  "language_info": {
   "codemirror_mode": {
    "name": "ipython",
    "version": 3
   },
   "file_extension": ".py",
   "mimetype": "text/x-python",
   "name": "python",
   "nbconvert_exporter": "python",
   "pygments_lexer": "ipython3",
   "version": "3.9.10"
  },
  "orig_nbformat": 4
 },
 "nbformat": 4,
 "nbformat_minor": 2
}
